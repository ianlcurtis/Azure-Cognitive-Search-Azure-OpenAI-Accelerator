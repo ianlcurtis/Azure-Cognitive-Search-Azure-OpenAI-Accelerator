{
  "cells": [
    {
      "cell_type": "markdown",
      "source": [
        "# Internet and Websites Search using Bing API - Bing Chat Clone"
      ],
      "metadata": {},
      "id": "66ab3cc5-aee4-415a-9391-1e5d37ccaf1d"
    },
    {
      "cell_type": "markdown",
      "source": [
        "In this notebook, we'll delve into the ways in which you can **boost your GPT Smart Search Engine with web search functionalities**, utilizing both Langchain and the Azure Bing Search API service.\n",
        "\n",
        "As previously discussed in our other notebooks, **harnessing agents and tools is an effective approach**. We aim to leverage the capabilities of OpenAI's large language models (LLM), such as GPT-4 and its successors, to perform the heavy lifting of reasoning and researching on our behalf.\n",
        "\n",
        "There are numerous instances where it is necessary for our Smart Search Engine to have internet access. For instance, we may wish to **enrich an answer with information available on the web**, or **provide users with up-to-date and recent information**, or **finding information on an specific public website**. Regardless of the scenario, we require our engine to base its responses on search results.\n",
        "\n",
        "By the conclusion of this notebook, you'll have a solid understanding of the Bing Search API basics, including **how to create a Web Search Agent using the Bing Search API**, and how these tools can strengthen your chatbot. Additionally, you'll learn about **Callback Handlers, their use, and their significance in bot applications**."
      ],
      "metadata": {},
      "id": "306fc0a9-4044-441d-9ba7-f54f32e6ea9f"
    },
    {
      "cell_type": "code",
      "source": [
        "import requests\n",
        "from typing import Dict, List\n",
        "from pydantic import BaseModel, Extra, root_validator\n",
        "\n",
        "from langchain.chat_models import AzureChatOpenAI\n",
        "from langchain.agents import AgentExecutor\n",
        "from langchain.callbacks.manager import CallbackManager\n",
        "from langchain.agents import initialize_agent, AgentType\n",
        "from langchain.tools import BaseTool\n",
        "from langchain.utilities import BingSearchAPIWrapper\n",
        "\n",
        "from common.callbacks import StdOutCallbackHandler\n",
        "from common.prompts import BING_PROMPT_PREFIX\n",
        "\n",
        "from IPython.display import Markdown, HTML, display  \n",
        "\n",
        "from dotenv import load_dotenv\n",
        "load_dotenv(\"credentials.env\")\n",
        "\n",
        "def printmd(string):\n",
        "    display(Markdown(string.replace(\"$\",\"USD \")))\n",
        "\n",
        "# GPT-4 models are necessary for this feature. GPT-35-turbo will make mistakes multiple times on following system prompt instructions.\n",
        "MODEL_DEPLOYMENT_NAME = \"gpt-4-32k\" "
      ],
      "outputs": [],
      "execution_count": 1,
      "metadata": {
        "gather": {
          "logged": 1706810119204
        }
      },
      "id": "c1fb79a3-4856-4721-988c-112813690a90"
    },
    {
      "cell_type": "code",
      "source": [
        "# Set the ENV variables that Langchain needs to connect to Azure OpenAI\n",
        "os.environ[\"OPENAI_API_VERSION\"] = os.environ[\"AZURE_OPENAI_API_VERSION\"]"
      ],
      "outputs": [],
      "execution_count": 2,
      "metadata": {
        "gather": {
          "logged": 1706810121254
        }
      },
      "id": "258a6e99-2d4f-4147-b8ee-c64c85296181"
    },
    {
      "cell_type": "markdown",
      "source": [
        "## Introduction to Callback Handlers"
      ],
      "metadata": {},
      "id": "1e8e0b32-a6b5-4b1c-943d-e57b737213fa"
    },
    {
      "cell_type": "markdown",
      "source": [
        "This following explanation comes directly from the Langchain documentation about Callbacks ([HERE](https://python.langchain.com/docs/modules/callbacks/)):\n",
        "\n",
        "**Callbacks**:<br>\n",
        "LangChain provides a callbacks system that allows you to hook into the various stages of your LLM application. This is useful for logging, monitoring, streaming, and other tasks. You can subscribe to these events by using the callbacks argument available throughout the API. This argument is list of handler objects.\n",
        "\n",
        "**Callback handlers**:<br>\n",
        "CallbackHandlers are objects that implement the CallbackHandler interface, which has a method for each event that can be subscribed to. The CallbackManager will call the appropriate method on each handler when the event is triggered.\n",
        "\n",
        "--------------------\n",
        "We will incorporate a handler for the callbacks, enabling us to observe the response as it streams and to gain insights into the Agent's reasoning process. This will prove incredibly valuable when we aim to stream the bot's responses to users and keep them informed about the ongoing process as they await the answer.\n",
        "\n",
        "Our custom handler is on the folder `common/callbacks.py`. Go and take a look at it."
      ],
      "metadata": {},
      "id": "003327ac-2851-48ef-8a6b-2d8c2004bb2e"
    },
    {
      "cell_type": "code",
      "source": [
        "cb_handler = StdOutCallbackHandler()\n",
        "cb_manager = CallbackManager(handlers=[cb_handler])\n",
        "\n",
        "# Now we declare our LLM object with the callback handler \n",
        "llm = AzureChatOpenAI(deployment_name=MODEL_DEPLOYMENT_NAME, temperature=0, max_tokens=1000)\n",
        "\n",
        "# or uncomment the below line if you want to see the responses being streamed\n",
        "llm = AzureChatOpenAI(deployment_name=MODEL_DEPLOYMENT_NAME, temperature=0, max_tokens=1000, streaming=True, callback_manager=cb_manager)"
      ],
      "outputs": [],
      "execution_count": 3,
      "metadata": {
        "gather": {
          "logged": 1706810125605
        }
      },
      "id": "9d3daf03-77e2-466e-a255-2f06bee3561b"
    },
    {
      "cell_type": "markdown",
      "source": [
        "## Creating a custom tool - Bing Search API tool"
      ],
      "metadata": {},
      "id": "11da70c2-60b6-47fb-94f1-aa11291fa40c"
    },
    {
      "cell_type": "markdown",
      "source": [
        "Langhain has already a pre-created tool called BingSearchAPIWrapper ([HERE](https://github.com/hwchase17/langchain/blob/master/langchain/utilities/bing_search.py)), however we are going to make it a bit better by using the results function instead of the run function, that way we not only have the text results, but also the title and link(source) of each snippet."
      ],
      "metadata": {},
      "id": "4dc30c9d-605d-4ada-9358-f926aeed2e48"
    },
    {
      "cell_type": "code",
      "source": [
        "class MyBingSearch(BaseTool):\n",
        "    \"\"\"Tool for a Bing Search Wrapper\"\"\"\n",
        "    \n",
        "    name = \"@bing\"\n",
        "    description = \"useful when the questions includes the term: @bing.\\n\"\n",
        "\n",
        "    k: int = 5\n",
        "    \n",
        "    def _run(self, query: str) -> str:\n",
        "        bing = BingSearchAPIWrapper(k=self.k)\n",
        "        return bing.results(query,num_results=self.k)\n",
        "            \n",
        "    async def _arun(self, query: str) -> str:\n",
        "        \"\"\"Use the tool asynchronously.\"\"\"\n",
        "        raise NotImplementedError(\"This Tool does not support async\")"
      ],
      "outputs": [],
      "execution_count": 4,
      "metadata": {
        "gather": {
          "logged": 1706810130261
        }
      },
      "id": "d3d155ae-16eb-458a-b2ed-5aa9a9b84ed8"
    },
    {
      "cell_type": "markdown",
      "source": [
        "Now, we **create our REACT agent that uses our custom tool and our custom promp**t `BING_PROMPT_PREFIX`"
      ],
      "metadata": {},
      "id": "0a3d6569-0c61-4b1c-9263-431304577551"
    },
    {
      "cell_type": "code",
      "source": [
        "tools = [MyBingSearch(k=5)] # assigning custom toll created above\n",
        "agent_executor = initialize_agent(tools, llm, agent=AgentType.ZERO_SHOT_REACT_DESCRIPTION, \n",
        "                         agent_kwargs={'prefix':BING_PROMPT_PREFIX}, callback_manager=cb_manager, )"
      ],
      "outputs": [],
      "execution_count": 5,
      "metadata": {
        "gather": {
          "logged": 1706810133272
        }
      },
      "id": "2c6cf721-76bb-47b6-aeeb-9ff4ff92b1f4"
    },
    {
      "cell_type": "markdown",
      "source": [
        "Try some of the below questions, or others that you might like"
      ],
      "metadata": {},
      "id": "7232260e-e972-4288-b0b5-0b605e584528"
    },
    {
      "cell_type": "code",
      "source": [
        "# QUESTION = \"Create a list with the main facts on What is happening with the oil supply in the world right now?\"\n",
        "# QUESTION = \"How much is 50 USD in Euros and is it enough for an average hotel in Madrid?\"\n",
        "# QUESTION = \"My son needs to build a pinewood car for a pinewood derbi, how do I build such a car?\"\n",
        "# QUESTION = \"Who won the 2023 superbowl and who was the MVP?\"\n",
        "# QUESTION = \"can I travel to Hawaii, Maui from Dallas, TX for 7 days with $7000 on the month of September, what are the best days to travel?\"\n",
        "\n",
        "\n",
        "# This complex question below needs gpt-4-32k (0613 version) in order to ensure a good answer. \n",
        "# ---------------\n",
        "QUESTION = \"\"\"\n",
        "compare the number of job opennings (provide the exact number), the average salary within 15 miles of Dallas, TX, for these ocupations:\n",
        "\n",
        "- ADN Registerd Nurse \n",
        "- Occupational therapist assistant\n",
        "- Dental Hygienist\n",
        "- Graphic Designer\n",
        "- Real Estate Agent\n",
        "\n",
        "\n",
        "Create a table with your findings. Place the sources on each cell.\n",
        "\"\"\""
      ],
      "outputs": [],
      "execution_count": 6,
      "metadata": {
        "gather": {
          "logged": 1706810137288
        }
      },
      "id": "fa949cea-c9aa-4529-a75f-61084ffffd7e"
    },
    {
      "cell_type": "code",
      "source": [
        "#As LLMs responses are never the same, we do a for loop in case the answer cannot be parsed according to our prompt instructions\n",
        "for i in range(2):\n",
        "    try:\n",
        "        response = agent_executor.run(QUESTION) \n",
        "        break\n",
        "    except Exception as e:\n",
        "        response = str(e)\n",
        "        continue"
      ],
      "outputs": [
        {
          "output_type": "stream",
          "name": "stdout",
          "text": "The user is asking for a comparison of job openings and average salaries for five different occupations within a 15-mile radius of Dallas, TX. I will need to perform multiple searches to gather this information. I will start by searching for the number of job openings and average salary for an ADN Registered Nurse in Dallas, TX. \n\nAction: @bing\nAction Input: ADN Registered Nurse job openings and average salary within 15 miles of Dallas, TXThe user is asking for a comparison of job openings and average salaries for five different occupations within a 15-mile radius of Dallas, TX. I will need to perform multiple searches to gather this information. I will start by searching for the number of job openings and average salary for an ADN Registered Nurse in Dallas, TX. \n\nAction: @bing\nAction Input: ADN Registered Nurse job openings and average salary within 15 miles of Dallas, TX\nThe search results show that there are varying numbers of job openings for ADN Registered Nurses in Dallas, TX, with numbers ranging from 354 to 1,048. The average salary for this position is approximately $35.52 per hour according to one source. I will now search for the same information for an Occupational Therapist Assistant.\n\nAction: @bing\nAction Input: Occupational Therapist Assistant job openings and average salary within 15 miles of Dallas, TXThe search results show that there are varying numbers of job openings for ADN Registered Nurses in Dallas, TX, with numbers ranging from 354 to 1,048. The average salary for this position is approximately $35.52 per hour according to one source. I will now search for the same information for an Occupational Therapist Assistant.\n\nAction: @bing\nAction Input: Occupational Therapist Assistant job openings and average salary within 15 miles of Dallas, TX\nThe search results do not provide the specific information I need for Occupational Therapist Assistant job openings and average salary within 15 miles of Dallas, TX. The results are showing data for the United Kingdom, which is not relevant to the user's question. I will adjust my search terms and try again.\n\nAction: @bing\nAction Input: Occupational Therapist Assistant job openings and average salary in Dallas, TXThe search results do not provide the specific information I need for Occupational Therapist Assistant job openings and average salary within 15 miles of Dallas, TX. The results are showing data for the United Kingdom, which is not relevant to the user's question. I will adjust my search terms and try again.\n\nAction: @bing\nAction Input: Occupational Therapist Assistant job openings and average salary in Dallas, TX\nThe search results show that the average salary for an Occupational Therapist Assistant in Dallas, TX is approximately $78,659 per year according to one source. However, the search results do not provide a specific number of job openings for this position. I will now search for the same information for a Dental Hygienist.\n\nAction: @bing\nAction Input: Dental Hygienist job openings and average salary within 15 miles of Dallas, TXThe search results show that the average salary for an Occupational Therapist Assistant in Dallas, TX is approximately $78,659 per year according to one source. However, the search results do not provide a specific number of job openings for this position. I will now search for the same information for a Dental Hygienist.\n\nAction: @bing\nAction Input: Dental Hygienist job openings and average salary within 15 miles of Dallas, TX\nThe search results show that there are approximately 154 job openings for Dental Hygienists in Dallas, TX. The average salary for this position is approximately $48.69 per hour according to one source. I will now search for the same information for a Graphic Designer.\n\nAction: @bing\nAction Input: Graphic Designer job openings and average salary within 15 miles of Dallas, TXThe search results show that there are approximately 154 job openings for Dental Hygienists in Dallas, TX. The average salary for this position is approximately $48.69 per hour according to one source. I will now search for the same information for a Graphic Designer.\n\nAction: @bing\nAction Input: Graphic Designer job openings and average salary within 15 miles of Dallas, TX\nThe search results show that there are approximately 87 job openings for Graphic Designers in Dallas, TX. The average salary for this position is approximately $21.92 per hour according to one source. I will now search for the same information for a Real Estate Agent.\n\nAction: @bing\nAction Input: Real Estate Agent job openings and average salary within 15 miles of Dallas, TXThe search results show that there are approximately 87 job openings for Graphic Designers in Dallas, TX. The average salary for this position is approximately $21.92 per hour according to one source. I will now search for the same information for a Real Estate Agent.\n\nAction: @bing\nAction Input: Real Estate Agent job openings and average salary within 15 miles of Dallas, TX\nThe search results show that there are approximately 467 job openings for Real Estate Agents in Dallas, TX. The average salary for this position is approximately $98,544 per year according to one source. Now that I have all the information, I can compile it into a table as requested by the user.\n\nFinal Answer: Here is the comparison of job openings and average salaries for the specified occupations within a 15-mile radius of Dallas, TX:\n\n| Occupation | Job Openings | Average Salary | Sources |\n|------------|--------------|----------------|---------|\n| ADN Registered Nurse | 680-1,048 | $35.52 per hour | <sup><a href=\"https://www.indeed.com/q-RN-Adn-l-Dallas,-TX-jobs.html\" target=\"_blank\">[1]</a></sup> <sup><a href=\"https://www.ziprecruiter.com/Salaries/ADN-Nurse-Salary-in-Dallas,TX\" target=\"_blank\">[2]</a></sup> |\n| Occupational Therapist Assistant | Not specified | $78,659 per year | <sup><a href=\"https://www.glassdoor.com/Salaries/dallas-occupational-therapy-assistant-salary-SRCH_IL.0,6_IM218_KO7,37.htm\" target=\"_blank\">[3]</a></sup> |\n| Dental Hygienist | 154 | $48.69 per hour | <sup><a href=\"https://www.indeed.com/career/dental-hygienist/salaries/Dallas--TX\" target=\"_blank\">[4]</a></sup> <sup><a href=\"https://www.indeed.com/q-Dental-Hygienist-l-Dallas,-TX-jobs.html\" target=\"_blank\">[5]</a></sup> |\n| Graphic Designer | 87 | $21.92 per hour | <sup><a href=\"https://www.indeed.com/career/graphic-designer/salaries/Dallas--TX\" target=\"_blank\">[6]</a></sup> <sup><a href=\"https://www.indeed.com/q-Graphics-Designer-l-Dallas,-TX-jobs.html\" target=\"_blank\">[7]</a></sup> |\n| Real Estate Agent | 467 | $98,544 per year | <sup><a href=\"https://www.indeed.com/career/real-estate-agent/salaries/Dallas--TX\" target=\"_blank\">[8]</a></sup> <sup><a href=\"https://www.indeed.com/q-Real-Estate-Agent-l-Dallas,-TX-jobs.html\" target=\"_blank\">[9]</a></sup> |\n\nPlease note that the number of job openings and average salaries can vary and are subject to change. It's always a good idea to check multiple sources for the most accurate and up-to-date information."
        }
      ],
      "execution_count": 7,
      "metadata": {
        "gather": {
          "logged": 1706810218591
        }
      },
      "id": "ca910f71-60fb-4758-b4a9-757e37eb421f"
    },
    {
      "cell_type": "code",
      "source": [
        "printmd(response)"
      ],
      "outputs": [
        {
          "output_type": "display_data",
          "data": {
            "text/plain": "<IPython.core.display.Markdown object>",
            "text/markdown": "Here is the comparison of job openings and average salaries for the specified occupations within a 15-mile radius of Dallas, TX:\n\n| Occupation | Job Openings | Average Salary | Sources |\n|------------|--------------|----------------|---------|\n| ADN Registered Nurse | 680-1,048 | USD 35.52 per hour | <sup><a href=\"https://www.indeed.com/q-RN-Adn-l-Dallas,-TX-jobs.html\" target=\"_blank\">[1]</a></sup> <sup><a href=\"https://www.ziprecruiter.com/Salaries/ADN-Nurse-Salary-in-Dallas,TX\" target=\"_blank\">[2]</a></sup> |\n| Occupational Therapist Assistant | Not specified | USD 78,659 per year | <sup><a href=\"https://www.glassdoor.com/Salaries/dallas-occupational-therapy-assistant-salary-SRCH_IL.0,6_IM218_KO7,37.htm\" target=\"_blank\">[3]</a></sup> |\n| Dental Hygienist | 154 | USD 48.69 per hour | <sup><a href=\"https://www.indeed.com/career/dental-hygienist/salaries/Dallas--TX\" target=\"_blank\">[4]</a></sup> <sup><a href=\"https://www.indeed.com/q-Dental-Hygienist-l-Dallas,-TX-jobs.html\" target=\"_blank\">[5]</a></sup> |\n| Graphic Designer | 87 | USD 21.92 per hour | <sup><a href=\"https://www.indeed.com/career/graphic-designer/salaries/Dallas--TX\" target=\"_blank\">[6]</a></sup> <sup><a href=\"https://www.indeed.com/q-Graphics-Designer-l-Dallas,-TX-jobs.html\" target=\"_blank\">[7]</a></sup> |\n| Real Estate Agent | 467 | USD 98,544 per year | <sup><a href=\"https://www.indeed.com/career/real-estate-agent/salaries/Dallas--TX\" target=\"_blank\">[8]</a></sup> <sup><a href=\"https://www.indeed.com/q-Real-Estate-Agent-l-Dallas,-TX-jobs.html\" target=\"_blank\">[9]</a></sup> |\n\nPlease note that the number of job openings and average salaries can vary and are subject to change. It's always a good idea to check multiple sources for the most accurate and up-to-date information."
          },
          "metadata": {}
        }
      ],
      "execution_count": 8,
      "metadata": {
        "gather": {
          "logged": 1706810218704
        }
      },
      "id": "25a410b2-9950-43f5-8f14-b333bdc24ff2"
    },
    {
      "cell_type": "markdown",
      "source": [
        "## QnA to specific websites\n",
        "\n",
        "There are several use cases where we want the smart bot to answer questions about a specific company's public website. There are two approaches we can take:\n",
        "\n",
        "1. Create a crawler script that runs regularly, finds every page on the website, and pushes the documents to Azure Cognitive Search.\n",
        "2. Since Bing has likely already indexed the public website, we can utilize Bing search targeted specifically to that site, rather than attempting to index the site ourselves and duplicate the work already done by Bing's crawler.\n",
        "\n",
        "Below are some sample questions related to specific sites. Take a look:"
      ],
      "metadata": {},
      "id": "e9ba3e35-8021-4262-8494-d1aee3862f7e"
    },
    {
      "cell_type": "code",
      "source": [
        "# QUESTION = \"information on how to kill wasps in homedepot.com\"\n",
        "# QUESTION = \"in target.com, find how what's the price of a Nesspresso coffee machine and of a Keurig coffee machine\"\n",
        "# QUESTION = \"in microsoft.com, find out what is the latests news on quantum computing\"\n",
        "QUESTION = \"give me on a list the main points on the latest investor report from mondelezinternational.com\""
      ],
      "outputs": [],
      "execution_count": 9,
      "metadata": {
        "gather": {
          "logged": 1706810218802
        }
      },
      "id": "e925ee4a-d295-4815-9e8c-bd6999f48892"
    },
    {
      "cell_type": "code",
      "source": [
        "#As LLMs responses are never the same, we do a for loop in case the answer cannot be parsed according to our prompt instructions\n",
        "for i in range(3):\n",
        "    try:\n",
        "        response = agent_executor.run(QUESTION) \n",
        "        break\n",
        "    except Exception as e:\n",
        "        response = str(e)\n",
        "        continue"
      ],
      "outputs": [
        {
          "output_type": "stream",
          "name": "stdout",
          "text": "The user is asking for the main points from the latest investor report from Mondelez International. I will need to search for this specific report on the Mondelez International website.\nAction: @bing\nAction Input: latest investor report site:mondelezinternational.comThe user is asking for the main points from the latest investor report from Mondelez International. I will need to search for this specific report on the Mondelez International website.\nAction: @bing\nAction Input: latest investor report site:mondelezinternational.com\nThe search results provide some information about the latest investor report from Mondelez International. The most relevant information seems to be in the third and fourth snippets. However, to ensure I provide the most accurate and comprehensive information, I should perform a second search on the specific page that seems to contain the latest report.\nAction: @bing\nAction Input: site:https://ir.mondelezinternational.com/news-releases/news-release-details/mondelez-international-reports-q4-and-fy-2021-resultsThe search results provide some information about the latest investor report from Mondelez International. The most relevant information seems to be in the third and fourth snippets. However, to ensure I provide the most accurate and comprehensive information, I should perform a second search on the specific page that seems to contain the latest report.\nAction: @bing\nAction Input: site:https://ir.mondelezinternational.com/news-releases/news-release-details/mondelez-international-reports-q4-and-fy-2021-results\nThe user is asking for the main points from the latest investor report from Mondelez International. I will need to search for this specific report on the Mondelez International website.\nAction: @bing\nAction Input: latest investor report site:mondelezinternational.comThe user is asking for the main points from the latest investor report from Mondelez International. I will need to search for this specific report on the Mondelez International website.\nAction: @bing\nAction Input: latest investor report site:mondelezinternational.com\nThe search results provide some information about the latest investor report from Mondelez International. The most relevant snippet is from the Q4 and FY 2021 results, which mentions an increase of 8.0 percent driven by Organic Net Revenue growth of 5.2 percent, favorable currency, and incremental sales from the company's acquisitions. However, to provide a comprehensive list of the main points, I need to search for more detailed information on the specific website mentioned in the user's question.\nAction: @bing\nAction Input: Q4 and FY 2021 results site:mondelezinternational.comThe search results provide some information about the latest investor report from Mondelez International. The most relevant snippet is from the Q4 and FY 2021 results, which mentions an increase of 8.0 percent driven by Organic Net Revenue growth of 5.2 percent, favorable currency, and incremental sales from the company's acquisitions. However, to provide a comprehensive list of the main points, I need to search for more detailed information on the specific website mentioned in the user's question.\nAction: @bing\nAction Input: Q4 and FY 2021 results site:mondelezinternational.com\nThe search results provide more detailed information about the Q4 and FY 2021 results from Mondelez International. The main points include an increase in net revenues by 8.0%, driven by Organic Net Revenue growth of 5.2%, favorable currency, and acquisitions. The Diluted EPS was $3.04, up 23.1%, and the Adjusted EPS was $2.87, up 9.0% on a constant-currency basis. I will compile these points into a list for the final answer.\nFinal Answer: Here are the main points from the latest investor report (Q4 and FY 2021) from Mondelez International:\n\n1. Net revenues increased by 8.0%<sup><a href=\"https://ir.mondelezinternational.com/news-releases/news-release-details/mondelez-international-reports-q4-and-fy-2021-results\" target=\"_blank\">[1]</a></sup>.\n2. This increase was driven by Organic Net Revenue growth of 5.2%, favorable currency, and incremental sales from the company's acquisitions of Give & Go, Hu, Grenade, and Gourmet Food<sup><a href=\"https://ir.mondelezinternational.com/news-releases/news-release-details/mondelez-international-reports-q4-and-fy-2021-results\" target=\"_blank\">[1]</a></sup>.\n3. Volume and pricing drove Organic Net Revenue growth<sup><a href=\"https://ir.mondelezinternational.com/news-releases/news-release-details/mondelez-international-reports-q4-and-fy-2021-results\" target=\"_blank\">[1]</a></sup>.\n4. Diluted EPS was $3.04, up 23.1%<sup><a href=\"https://ir.mondelezinternational.com/static-files/e6dc02e4-63d1-4eb5-99ef-8ba229bc11b3\" target=\"_blank\">[2]</a></sup>.\n5. Adjusted EPS was $2.87, up 9.0% on a constant-currency basis<sup><a href=\"https://ir.mondelezinternational.com/static-files/e6dc02e4-63d1-4eb5-99ef-8ba229bc11b3\" target=\"_blank\">[2]</a></sup>.\n\nIs there anything else you would like to know?"
        }
      ],
      "execution_count": 10,
      "metadata": {
        "gather": {
          "logged": 1706810286182
        }
      },
      "id": "099830a1-b81d-4698-a458-e84ccf3989cc"
    },
    {
      "cell_type": "code",
      "source": [
        "printmd(response)"
      ],
      "outputs": [
        {
          "output_type": "display_data",
          "data": {
            "text/plain": "<IPython.core.display.Markdown object>",
            "text/markdown": "Here are the main points from the latest investor report (Q4 and FY 2021) from Mondelez International:\n\n1. Net revenues increased by 8.0%<sup><a href=\"https://ir.mondelezinternational.com/news-releases/news-release-details/mondelez-international-reports-q4-and-fy-2021-results\" target=\"_blank\">[1]</a></sup>.\n2. This increase was driven by Organic Net Revenue growth of 5.2%, favorable currency, and incremental sales from the company's acquisitions of Give & Go, Hu, Grenade, and Gourmet Food<sup><a href=\"https://ir.mondelezinternational.com/news-releases/news-release-details/mondelez-international-reports-q4-and-fy-2021-results\" target=\"_blank\">[1]</a></sup>.\n3. Volume and pricing drove Organic Net Revenue growth<sup><a href=\"https://ir.mondelezinternational.com/news-releases/news-release-details/mondelez-international-reports-q4-and-fy-2021-results\" target=\"_blank\">[1]</a></sup>.\n4. Diluted EPS was USD 3.04, up 23.1%<sup><a href=\"https://ir.mondelezinternational.com/static-files/e6dc02e4-63d1-4eb5-99ef-8ba229bc11b3\" target=\"_blank\">[2]</a></sup>.\n5. Adjusted EPS was USD 2.87, up 9.0% on a constant-currency basis<sup><a href=\"https://ir.mondelezinternational.com/static-files/e6dc02e4-63d1-4eb5-99ef-8ba229bc11b3\" target=\"_blank\">[2]</a></sup>.\n\nIs there anything else you would like to know?"
          },
          "metadata": {}
        }
      ],
      "execution_count": 11,
      "metadata": {
        "gather": {
          "logged": 1706810286290
        }
      },
      "id": "89e67095-277d-45b6-84aa-acef0eb6cf5f"
    },
    {
      "cell_type": "code",
      "source": [
        "# Uncomment if you want to take a look at the custom bing search prompt (This is where the magic happens: a great system promp + GPT-4)\n",
        "# printmd(agent_executor.agent.llm_chain.prompt.template)"
      ],
      "outputs": [],
      "execution_count": 12,
      "metadata": {},
      "id": "9782fafa-9453-46be-b9d7-b33088f61ac8"
    },
    {
      "cell_type": "markdown",
      "source": [
        "# Summary"
      ],
      "metadata": {},
      "id": "56cbc405-26e2-471e-9626-2a0df07f5ddc"
    },
    {
      "cell_type": "markdown",
      "source": [
        "In this notebook, we learned about Callback Handlers and how to stream the response from the LLM. We also learn how to create a Bing Chat clone using a clever prompt with specific search and formatting instructions.\n",
        "\n",
        "The outcome is an agent capable of conducting intelligent web searches and performing research on our behalf. This agent provides us with answers to our questions along with appropriate URL citations and links!"
      ],
      "metadata": {},
      "id": "7381ea5f-7269-4e1f-8b0c-1e2c04bd84c0"
    },
    {
      "cell_type": "markdown",
      "source": [
        "# NEXT\n",
        "\n",
        "The Next Notebook will guide you on how we stick everything together. How do we use the features of all notebooks and create a brain agent that can respond to any request accordingly."
      ],
      "metadata": {},
      "id": "02073623-91b4-40d6-8eaf-cb6d9c6a7a9a"
    },
    {
      "cell_type": "code",
      "source": [],
      "outputs": [],
      "execution_count": null,
      "metadata": {},
      "id": "aa47ca6f-ec36-4395-8062-487c2c339534"
    }
  ],
  "metadata": {
    "kernelspec": {
      "name": "python310-sdkv2",
      "language": "python",
      "display_name": "Python 3.10 - SDK v2"
    },
    "language_info": {
      "name": "python",
      "version": "3.10.11",
      "mimetype": "text/x-python",
      "codemirror_mode": {
        "name": "ipython",
        "version": 3
      },
      "pygments_lexer": "ipython3",
      "nbconvert_exporter": "python",
      "file_extension": ".py"
    },
    "microsoft": {
      "ms_spell_check": {
        "ms_spell_check_language": "en"
      },
      "host": {
        "AzureML": {
          "notebookHasBeenCompleted": true
        }
      }
    },
    "kernel_info": {
      "name": "python310-sdkv2"
    },
    "nteract": {
      "version": "nteract-front-end@1.0.0"
    }
  },
  "nbformat": 4,
  "nbformat_minor": 5
}